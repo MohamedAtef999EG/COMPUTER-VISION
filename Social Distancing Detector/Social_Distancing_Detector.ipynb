{
 "cells": [
  {
   "cell_type": "markdown",
   "id": "d3138ac4",
   "metadata": {},
   "source": [
    "# Social Distancing Detector\n",
    "## By: Mohamed Atef Fathy"
   ]
  },
  {
   "cell_type": "code",
   "execution_count": 9,
   "id": "ff9bacad",
   "metadata": {
    "scrolled": true
   },
   "outputs": [
    {
     "name": "stdout",
     "output_type": "stream",
     "text": [
      "[INFO] loading YOLO from disk...\n"
     ]
    },
    {
     "name": "stderr",
     "output_type": "stream",
     "text": [
      "Traceback (most recent call last):\n",
      "  File \"C:\\Users\\Home™\\Downloads\\Video\\New folder\\social_distance_detector.py\", line 38, in <module>\n",
      "    net = cv2.dnn.readNetFromDarknet(configPath, weightsPath)\n",
      "cv2.error: OpenCV(4.5.5) D:\\a\\opencv-python\\opencv-python\\opencv\\modules\\dnn\\src\\darknet\\darknet_importer.cpp:207: error: (-212:Parsing error) Failed to parse NetParameter file: yolo-coco\\yolov3.cfg in function 'cv::dnn::dnn4_v20211220::readNetFromDarknet'\n",
      "\n"
     ]
    }
   ],
   "source": [
    "!python social_distance_detector.py --input Monitoring Social Distancing using AI.mp4 --output output.avi --display 0"
   ]
  },
  {
   "cell_type": "code",
   "execution_count": null,
   "id": "d27a0e3e",
   "metadata": {},
   "outputs": [],
   "source": []
  }
 ],
 "metadata": {
  "kernelspec": {
   "display_name": "Python 3 (ipykernel)",
   "language": "python",
   "name": "python3"
  },
  "language_info": {
   "codemirror_mode": {
    "name": "ipython",
    "version": 3
   },
   "file_extension": ".py",
   "mimetype": "text/x-python",
   "name": "python",
   "nbconvert_exporter": "python",
   "pygments_lexer": "ipython3",
   "version": "3.9.7"
  }
 },
 "nbformat": 4,
 "nbformat_minor": 5
}
