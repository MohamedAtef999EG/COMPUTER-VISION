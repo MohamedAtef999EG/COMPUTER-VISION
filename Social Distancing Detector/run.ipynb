{
 "cells": [
  {
   "cell_type": "code",
   "execution_count": 9,
   "id": "aeb25aa9",
   "metadata": {},
   "outputs": [
    {
     "name": "stderr",
     "output_type": "stream",
     "text": [
      "  File \"C:\\Users\\Home™\\Downloads\\Video\\New folder\\social_distance_detector.py\", line 7\n",
      "    <!DOCTYPE html>\n",
      "    ^\n",
      "SyntaxError: invalid syntax\n"
     ]
    }
   ],
   "source": [
    "!python social_distance_detector.py --input pedestrians.mp4 --output output.avi --display 0"
   ]
  },
  {
   "cell_type": "code",
   "execution_count": null,
   "id": "9fd4c620",
   "metadata": {},
   "outputs": [],
   "source": []
  }
 ],
 "metadata": {
  "kernelspec": {
   "display_name": "Python 3 (ipykernel)",
   "language": "python",
   "name": "python3"
  },
  "language_info": {
   "codemirror_mode": {
    "name": "ipython",
    "version": 3
   },
   "file_extension": ".py",
   "mimetype": "text/x-python",
   "name": "python",
   "nbconvert_exporter": "python",
   "pygments_lexer": "ipython3",
   "version": "3.9.7"
  }
 },
 "nbformat": 4,
 "nbformat_minor": 5
}
